{
 "cells": [
  {
   "cell_type": "code",
   "execution_count": 1,
   "metadata": {},
   "outputs": [],
   "source": [
    "import numpy as np\n",
    "import matplotlib.pyplot as plt\n",
    "\n",
    "%matplotlib inline"
   ]
  },
  {
   "cell_type": "markdown",
   "metadata": {},
   "source": [
    "6. Найти предел:"
   ]
  },
  {
   "cell_type": "markdown",
   "metadata": {},
   "source": [
    "$\\lim_{x \\to \\infty} (\\frac{x + 3}{x})^{4x+1}$\n"
   ]
  },
  {
   "cell_type": "markdown",
   "metadata": {},
   "source": [
    "Второй змечательный предел:\n"
   ]
  },
  {
   "cell_type": "markdown",
   "metadata": {},
   "source": [
    "$\\lim_{x \\to \\infty} (\\frac{x + 3}{x})^{4x+1}$ = $(\\frac{x + 3}{x})^{4x+1}$ = $(1 + \\frac{3}{x})^{4x+1}$ = $e^{12}$"
   ]
  },
  {
   "cell_type": "markdown",
   "metadata": {},
   "source": [
    "Условия практического задания"
   ]
  },
  {
   "cell_type": "markdown",
   "metadata": {},
   "source": [
    "10. Найти предел:"
   ]
  },
  {
   "cell_type": "markdown",
   "metadata": {},
   "source": [
    "$\\lim_{x \\to \\infty} (\\frac{4x+3}{4x-3})^{6x}$"
   ]
  },
  {
   "cell_type": "markdown",
   "metadata": {},
   "source": [
    "$\\lim_{x \\to \\infty} (\\frac{4x+3}{4x-3})^{6x}$ = $(\\frac{4x+3}{4x-3})^{6x}$ = $(1 +\\frac{6}{4x-3})^{\\frac{4}{4}(6x)}$ = $(1 +\\frac{6}{4x-3})^{\\frac{6}{4}(4x-3)}$ = $e^{6\\frac{6}{4}}$ = $e^9$"
   ]
  },
  {
   "cell_type": "markdown",
   "metadata": {},
   "source": [
    "11. Найти предел:"
   ]
  },
  {
   "cell_type": "markdown",
   "metadata": {},
   "source": [
    "$\\lim_{x \\to \\infty} \\frac{sin(x) + ln(x)}{x}$"
   ]
  },
  {
   "cell_type": "markdown",
   "metadata": {},
   "source": [
    "$\\lim_{x \\to \\infty} \\frac{sin(x) + ln(x)}{x}$ = $\\frac{sin(x) + ln(x)}{x}$ = $0 + ln(x)$ = $+\\infty$"
   ]
  },
  {
   "cell_type": "markdown",
   "metadata": {},
   "source": [
    "Комментарий к заданию: В №11-м ошибка (единственная на всю работу, что редкость): (sin(x)+ln(x))/x = sin(x)/x+ln(x)/x. При стремлении «икс» к бесконечности пределы обеих дробей будут равны нулю. Второй – потому что степенная функция (x^1) растёт быстрее логарифмической. Также предел 2-й дроби можно посчитать по правилу Лопиталя."
   ]
  },
  {
   "cell_type": "markdown",
   "metadata": {},
   "source": [
    "12. Найти предел:"
   ]
  },
  {
   "cell_type": "markdown",
   "metadata": {},
   "source": [
    "$\\lim_{x \\to 0} \\frac{sin(x) + ln(x)}{x}$"
   ]
  },
  {
   "cell_type": "markdown",
   "metadata": {},
   "source": [
    "$\\lim_{x \\to 0} \\frac{sin(x) + ln(x)}{x}$ = $\\frac{sin(x) + ln(x)}{x}$ = $1 + ln(x)$ = $-\\infty$"
   ]
  },
  {
   "cell_type": "markdown",
   "metadata": {},
   "source": [
    "Дифференциальное исчисление"
   ]
  },
  {
   "cell_type": "markdown",
   "metadata": {},
   "source": [
    "1. Найти производную выражения:¶"
   ]
  },
  {
   "cell_type": "markdown",
   "metadata": {},
   "source": [
    "$sin(x) * cos(x)$"
   ]
  },
  {
   "cell_type": "markdown",
   "metadata": {},
   "source": [
    "$(sin(x) * cos(x))'$ = $(sin(x))'*cos(x) + (cos(x)')*sin(x)$ = $cos^2(x) - sin^2(x)$ = $cos(2x)$"
   ]
  },
  {
   "cell_type": "markdown",
   "metadata": {},
   "source": [
    "2. Найти производную выражения:¶"
   ]
  },
  {
   "cell_type": "markdown",
   "metadata": {},
   "source": [
    "$ln(2x + 1)^3$"
   ]
  },
  {
   "cell_type": "markdown",
   "metadata": {},
   "source": [
    "\n",
    "$(ln(2x + 1)^3)'$ = $\\frac{1}{(2x + 1)^3}((2x + 1)^3)'$ = $\\frac{1}{(2x + 1)^3}6(2x + 1)^2$ = $\\frac{6}{2x + 1}$"
   ]
  },
  {
   "cell_type": "markdown",
   "metadata": {},
   "source": [
    "4. Найти производную выражения:¶"
   ]
  },
  {
   "cell_type": "markdown",
   "metadata": {},
   "source": [
    "$\\frac{x^4}{ln(x)}$"
   ]
  },
  {
   "cell_type": "markdown",
   "metadata": {},
   "source": [
    "\n",
    "$(\\frac{x^4}{ln(x)})'$ = $\\frac{(x^4)'ln(x) - x^4(ln(x))'}{ln^2(x)}$ = $\\frac{4x^3ln(x) - \\frac{x^4}{x}}{ln^2(x)}$ = $\\frac{4x^3ln(x) - x^3}{ln^2(x)}$"
   ]
  },
  {
   "cell_type": "code",
   "execution_count": null,
   "metadata": {},
   "outputs": [],
   "source": []
  }
 ],
 "metadata": {
  "kernelspec": {
   "display_name": "Python 3",
   "language": "python",
   "name": "python3"
  },
  "language_info": {
   "codemirror_mode": {
    "name": "ipython",
    "version": 3
   },
   "file_extension": ".py",
   "mimetype": "text/x-python",
   "name": "python",
   "nbconvert_exporter": "python",
   "pygments_lexer": "ipython3",
   "version": "3.8.3"
  }
 },
 "nbformat": 4,
 "nbformat_minor": 4
}
