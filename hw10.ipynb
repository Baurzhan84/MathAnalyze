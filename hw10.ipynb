{
 "cells": [
  {
   "cell_type": "markdown",
   "metadata": {},
   "source": [
    "1. Найти неопределенный интеграл"
   ]
  },
  {
   "cell_type": "markdown",
   "metadata": {},
   "source": [
    "$\\int_{}^{}(2x^2 - 2x - 1 + sin(x) - cos(x) + ln(x) + e^x)dx$"
   ]
  },
  {
   "cell_type": "markdown",
   "metadata": {},
   "source": [
    "$\\int_{}^{}(2x^2 - 2x - 1 + sin(x) - cos(x) + ln(x) + e^x)dx$ = $2\\int_{}^{}x^2dx - 2\\int_{}^{}xdx - \\int_{}^{}1dx + \\int_{}^{}sin(x)dx - \\int_{}^{}cos(x)dx  + \\int_{}^{}ln(x)dx + \\int_{}^{}e^xdx$"
   ]
  },
  {
   "cell_type": "markdown",
   "metadata": {},
   "source": [
    "$\\int_{}^{}x^2dx$ = $\\frac{x^3}{3} + C$"
   ]
  },
  {
   "cell_type": "markdown",
   "metadata": {},
   "source": [
    "$\\int_{}^{}xdx$ = $\\frac{x^2}{2} + C$"
   ]
  },
  {
   "cell_type": "markdown",
   "metadata": {},
   "source": [
    "$\\int_{}^{}1dx$ = $x + C$"
   ]
  },
  {
   "cell_type": "markdown",
   "metadata": {},
   "source": [
    "$\\int_{}^{}sin(x)dx$ = $-cos(x) + C$"
   ]
  },
  {
   "cell_type": "markdown",
   "metadata": {},
   "source": [
    "$\\int_{}^{}cos(x)dx$ = $sin(x) + C$"
   ]
  },
  {
   "cell_type": "markdown",
   "metadata": {},
   "source": [
    "$\\int_{}^{}ln(x)dx$ = $xln(x) - x + C$"
   ]
  },
  {
   "cell_type": "markdown",
   "metadata": {},
   "source": [
    "$\\int_{}^{}e^xdx$ = $e^x + C$"
   ]
  },
  {
   "cell_type": "markdown",
   "metadata": {},
   "source": [
    "$\\int_{}^{}(2x^2 - 2x - 1 + sin(x) - cos(x) + ln(x) + e^x)dx$ = $\\frac{2x^3}{3} - x^2 - x - cos(x) - sin(x) + xln(x) - x + e^x + C$ = $\\frac{2x^3}{3} - x^2 - 1x - cos(x) - sin(x) + xln(x) + e^x + C$"
   ]
  },
  {
   "cell_type": "markdown",
   "metadata": {},
   "source": [
    "2. Найти неопределенный интеграл:"
   ]
  },
  {
   "cell_type": "markdown",
   "metadata": {},
   "source": [
    "$\\int_{}^{}(2x + 6xz^2 - 5x^2y - 3ln(z))dx$"
   ]
  },
  {
   "cell_type": "markdown",
   "metadata": {},
   "source": [
    "$\\int_{}^{}(2x + 6xz^2 - 5x^2y - 3ln(z))dx$ = $(6z^2 + 2)\\int{}^{}xdx - 5y\\int{}^{}x^2dx - 3ln(x)\\int{}^{}1dx$"
   ]
  },
  {
   "cell_type": "markdown",
   "metadata": {},
   "source": [
    "$\\int_{}^{}xdx$ = $\\frac{x^2}{2} + C$"
   ]
  },
  {
   "cell_type": "markdown",
   "metadata": {},
   "source": [
    "$\\int_{}^{}x^2dx$ = $\\frac{x^3}{3} + C$"
   ]
  },
  {
   "cell_type": "markdown",
   "metadata": {},
   "source": [
    "$\\int_{}^{}1dx$ = $x + C$"
   ]
  },
  {
   "cell_type": "markdown",
   "metadata": {},
   "source": [
    "$\\int_{}^{}(2x + 6xz^2 - 5x^2y - 3ln(z))dx$ = $\\frac{(6z^2 + 2)x^2}{2} - \\frac{5yx^3}{3} - 3ln(z)x + C$"
   ]
  },
  {
   "cell_type": "markdown",
   "metadata": {},
   "source": [
    "3. Вычислить определенный интеграл:"
   ]
  },
  {
   "cell_type": "markdown",
   "metadata": {},
   "source": [
    "$\\int_{0}^{\\pi}3x^2sin(2x)dx$"
   ]
  },
  {
   "cell_type": "markdown",
   "metadata": {},
   "source": [
    "$\\int_{}^{}3x^2sin(2x)dx$"
   ]
  },
  {
   "cell_type": "markdown",
   "metadata": {},
   "source": [
    "$\\int_{}^{}udv$ = $uv - \\int_{}^{}vdu$"
   ]
  },
  {
   "cell_type": "markdown",
   "metadata": {},
   "source": [
    "$u$ = $x^2$"
   ]
  },
  {
   "cell_type": "markdown",
   "metadata": {},
   "source": [
    "$dv$ = $3sin(2x)dx$"
   ]
  },
  {
   "cell_type": "markdown",
   "metadata": {},
   "source": [
    "$du$ = $2xdx$"
   ]
  },
  {
   "cell_type": "markdown",
   "metadata": {},
   "source": [
    "$v$ = $-3\\frac{cos(2x)}{2}$"
   ]
  },
  {
   "cell_type": "markdown",
   "metadata": {},
   "source": [
    "$\\int_{}^{}3x^2sin(2x)dx$ = $-3x^2\\frac{cos(2x)}{2} - \\int_{}^{}-3xcos(2x)dx$ = $-3x^2\\frac{cos(2x)}{2} + \\int_{}^{}3xcos(2x)dx$"
   ]
  },
  {
   "cell_type": "markdown",
   "metadata": {},
   "source": [
    "$\\int_{}^{}3xcos(2x)dx$\n"
   ]
  },
  {
   "cell_type": "markdown",
   "metadata": {},
   "source": [
    "$u$ = $x$"
   ]
  },
  {
   "cell_type": "markdown",
   "metadata": {},
   "source": [
    "$dv$ = $cos(2x)dx$"
   ]
  },
  {
   "cell_type": "markdown",
   "metadata": {},
   "source": [
    "$du$ = $xdx$"
   ]
  },
  {
   "cell_type": "markdown",
   "metadata": {},
   "source": [
    "$v$ = $3\\frac{sin(2x)}{2}$"
   ]
  },
  {
   "cell_type": "markdown",
   "metadata": {},
   "source": [
    "$\\int_{}^{}3xcos(2x)dx$ = $3x\\frac{sin(2x)}{2} - \\int_{}^{}3\\frac{sin(2x)}{2}dx$"
   ]
  },
  {
   "cell_type": "markdown",
   "metadata": {},
   "source": [
    "$\\int_{}^{}3\\frac{sin(2x)}{2}dx$ = $-\\frac{3}{4}cos(2x)$"
   ]
  },
  {
   "cell_type": "markdown",
   "metadata": {},
   "source": [
    "$\\int_{}^{}3xcos(2x)dx$ = $3x\\frac{sin(2x)}{2} -(-\\frac{3}{4}cos(2x)) + C$ = $3x\\frac{sin(2x)}{2} +\\frac{3}{4}cos(2x)  + C$"
   ]
  },
  {
   "cell_type": "markdown",
   "metadata": {},
   "source": [
    "$\\int_{}^{}3x^2sin(2x)dx$ = $-3x^2\\frac{cos(2x)}{2} + 3x\\frac{sin(2x)}{2} + 3\\frac{cos(2x)}{4} + C$"
   ]
  },
  {
   "cell_type": "markdown",
   "metadata": {},
   "source": [
    "$\\int_{0}^{\\pi}3x^2sin(2x)dx$"
   ]
  },
  {
   "cell_type": "markdown",
   "metadata": {},
   "source": [
    "$F(\\pi)$ = $-3\\frac{\\pi^2}{2} + \\frac{3}{4}$"
   ]
  },
  {
   "cell_type": "markdown",
   "metadata": {},
   "source": [
    "$F(0)$ = $\\frac{3}{4}$"
   ]
  },
  {
   "cell_type": "markdown",
   "metadata": {},
   "source": [
    "$\\int_{0}^{\\pi}3x^2sin(2x)dx$ = $-3\\frac{\\pi^2}{2} + \\frac{3}{4} - \\frac{3}{4}$ = $-3\\frac{\\pi^2}{2}$"
   ]
  },
  {
   "cell_type": "markdown",
   "metadata": {},
   "source": [
    "4. Найти неопределенный интеграл:"
   ]
  },
  {
   "cell_type": "markdown",
   "metadata": {},
   "source": [
    "$\\int_{}^{}\\frac{1}{\\sqrt{x+1}}dx$"
   ]
  },
  {
   "cell_type": "markdown",
   "metadata": {},
   "source": [
    "$u$ = $x+1$ $\\Rightarrow$ $dx$ = $du$ $\\int_{}^{}\\frac{1}{\\sqrt{x+1}}dx$ = $\\int_{}^{}\\frac{1}{\\sqrt{u}}du$"
   ]
  },
  {
   "cell_type": "markdown",
   "metadata": {},
   "source": [
    "$\\int_{}^{}\\frac{1}{\\sqrt{u}}du$ = $2\\sqrt{u} + С$ = $2\\sqrt{x+1} +С$"
   ]
  },
  {
   "cell_type": "markdown",
   "metadata": {},
   "source": [
    "$\\int_{}^{}\\frac{1}{\\sqrt{x+1}}dx$ = $2\\sqrt{x+1} + C$"
   ]
  },
  {
   "cell_type": "code",
   "execution_count": null,
   "metadata": {},
   "outputs": [],
   "source": []
  }
 ],
 "metadata": {
  "kernelspec": {
   "display_name": "Python 3",
   "language": "python",
   "name": "python3"
  },
  "language_info": {
   "codemirror_mode": {
    "name": "ipython",
    "version": 3
   },
   "file_extension": ".py",
   "mimetype": "text/x-python",
   "name": "python",
   "nbconvert_exporter": "python",
   "pygments_lexer": "ipython3",
   "version": "3.8.3"
  }
 },
 "nbformat": 4,
 "nbformat_minor": 4
}
