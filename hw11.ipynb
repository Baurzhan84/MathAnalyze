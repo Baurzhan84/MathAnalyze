{
 "cells": [
  {
   "cell_type": "markdown",
   "metadata": {},
   "source": [
    "1. Исследовать ряд на сходимость, используя признак д’Аламбера:"
   ]
  },
  {
   "cell_type": "markdown",
   "metadata": {},
   "source": [
    "$\\sum\\limits_{n=1}^\\infty\\frac{n^n}{(n!)^2}$"
   ]
  },
  {
   "cell_type": "markdown",
   "metadata": {},
   "source": [
    "$\\lim_{n \\to \\infty}\\frac{\\frac{(n+1)^{n+1}}{((n+1)!)^2}}{\\frac{n^n}{(n!)^2}}$ = $\\lim_{n \\to \\infty}\\frac{(n+1)^{n+1}(n!)^{2}}{((n+1)!)^2n^n}$ = $\\lim_{n \\to \\infty}\\frac{(n+1)^n(n+1)n!n!}{n!(n+1)n!(n+1)n^n}$ = $\\lim_{n \\to \\infty}\\frac{(n+1)^n}{(n+1)n^n}$ = $\\lim_{n \\to \\infty}\\frac{1}{n+1}\\lim_{n \\to \\infty}(\\frac{n+1}{n})^n$ = $\\lim_{n \\to \\infty}\\frac{1}{n+1}\\lim_{n \\to \\infty}(1 + \\frac{1}{n})^n$ = $0e$ ="
   ]
  },
  {
   "cell_type": "markdown",
   "metadata": {},
   "source": [
    "$0$ $\\Rightarrow$ ряд сходитя"
   ]
  },
  {
   "cell_type": "markdown",
   "metadata": {},
   "source": [
    "2. Исследовать ряд на сходимость, используя радикальный признак Коши:"
   ]
  },
  {
   "cell_type": "markdown",
   "metadata": {},
   "source": [
    "$\\sum\\limits_{n=1}^\\infty\\frac{n}{2^n}$"
   ]
  },
  {
   "cell_type": "markdown",
   "metadata": {},
   "source": [
    "$\\lim_{n\\to\\infty}\\sqrt[n]{\\frac{n}{2^n}}$ = $\\frac{\\lim_{n\\to\\infty}\\sqrt[n]{n}}{\\lim_{n\\to\\infty}\\sqrt[n]{2^n}}$ = $\\frac{1}{2}$ $\\Rightarrow$ ряд сходитя"
   ]
  },
  {
   "cell_type": "markdown",
   "metadata": {},
   "source": [
    "3. Исследовать ряд на сходимость, используя признак Лейбница:"
   ]
  },
  {
   "cell_type": "markdown",
   "metadata": {},
   "source": [
    "$\\sum\\limits_{n=1}^\\infty\\frac{(-1)^n}{n + ln(n)}$"
   ]
  },
  {
   "cell_type": "markdown",
   "metadata": {},
   "source": [
    "$\\lim_{n\\to\\infty}\\frac{1}{n + ln(n)}$ = $0$ $\\Rightarrow$ ряд сходитя"
   ]
  },
  {
   "cell_type": "markdown",
   "metadata": {},
   "source": [
    "\n",
    "4. Исследовать ряд на сходимость, используя признак Раабе:"
   ]
  },
  {
   "cell_type": "markdown",
   "metadata": {},
   "source": [
    "$\\sum\\limits_{n=1}^\\infty\\frac{3^n}{2^n}$"
   ]
  },
  {
   "cell_type": "markdown",
   "metadata": {},
   "source": [
    "\n",
    "$Rn = n(\\frac{a(n)}{a(n+1)} - 1)$ = $n(\\frac{\\frac{3^n}{2^n}}{\\frac{3^{n+1}}{2^{n+1}}} - 1)$ = $n(\\frac{2}{3} - 1)$ = $-\\frac{1}{3}n$"
   ]
  },
  {
   "cell_type": "markdown",
   "metadata": {},
   "source": [
    "$\\lim_{n\\to\\infty}-\\frac{1}{3}n$ < $1$ $\\Rightarrow$ ряд расходитя"
   ]
  },
  {
   "cell_type": "markdown",
   "metadata": {},
   "source": [
    "5. Разложить функцию по Тейлору в единице:"
   ]
  },
  {
   "cell_type": "markdown",
   "metadata": {},
   "source": [
    "$f(x) = ln(16x^2)$"
   ]
  },
  {
   "cell_type": "markdown",
   "metadata": {},
   "source": [
    "$f(x) = ln(16x^2)$ = $ln(16) + ln(x^2)$ = $2ln(4) + 2ln(x)$"
   ]
  },
  {
   "cell_type": "markdown",
   "metadata": {},
   "source": [
    "$f(x) = 2ln(4) + 2\\sum\\limits_{n=1}^\\infty(-1)^{n+1}(x-1)^n$"
   ]
  },
  {
   "cell_type": "code",
   "execution_count": null,
   "metadata": {},
   "outputs": [],
   "source": []
  }
 ],
 "metadata": {
  "kernelspec": {
   "display_name": "Python 3",
   "language": "python",
   "name": "python3"
  },
  "language_info": {
   "codemirror_mode": {
    "name": "ipython",
    "version": 3
   },
   "file_extension": ".py",
   "mimetype": "text/x-python",
   "name": "python",
   "nbconvert_exporter": "python",
   "pygments_lexer": "ipython3",
   "version": "3.8.3"
  }
 },
 "nbformat": 4,
 "nbformat_minor": 4
}
